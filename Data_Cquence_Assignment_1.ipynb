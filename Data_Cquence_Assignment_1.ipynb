{
  "nbformat": 4,
  "nbformat_minor": 0,
  "metadata": {
    "kernelspec": {
      "display_name": "Python 3",
      "language": "python",
      "name": "python3"
    },
    "language_info": {
      "codemirror_mode": {
        "name": "ipython",
        "version": 3
      },
      "file_extension": ".py",
      "mimetype": "text/x-python",
      "name": "python",
      "nbconvert_exporter": "python",
      "pygments_lexer": "ipython3",
      "version": "3.8.3"
    },
    "colab": {
      "name": "Data Cquence Assignment 1.ipynb",
      "provenance": [],
      "collapsed_sections": [],
      "include_colab_link": true
    }
  },
  "cells": [
    {
      "cell_type": "markdown",
      "metadata": {
        "id": "view-in-github",
        "colab_type": "text"
      },
      "source": [
        "<a href=\"https://colab.research.google.com/github/nalymugwe/DataCquence/blob/main/Data_Cquence_Assignment_1.ipynb\" target=\"_parent\"><img src=\"https://colab.research.google.com/assets/colab-badge.svg\" alt=\"Open In Colab\"/></a>"
      ]
    },
    {
      "cell_type": "code",
      "metadata": {
        "id": "PfnNd77nsXst",
        "colab": {
          "base_uri": "https://localhost:8080/"
        },
        "outputId": "82acbe09-58bc-4ec1-fc8f-64341976308f"
      },
      "source": [
        "!pwd"
      ],
      "execution_count": 1,
      "outputs": [
        {
          "output_type": "stream",
          "text": [
            "/content\n"
          ],
          "name": "stdout"
        }
      ]
    },
    {
      "cell_type": "code",
      "metadata": {
        "id": "w7DkCeNAsnng",
        "colab": {
          "base_uri": "https://localhost:8080/"
        },
        "outputId": "785145e4-04c3-4b1a-a668-99e2d1b3fdca"
      },
      "source": [
        "!ls"
      ],
      "execution_count": 2,
      "outputs": [
        {
          "output_type": "stream",
          "text": [
            "sample_data\n"
          ],
          "name": "stdout"
        }
      ]
    },
    {
      "cell_type": "code",
      "metadata": {
        "colab": {
          "base_uri": "https://localhost:8080/"
        },
        "id": "K3wEKQ4l4H6t",
        "outputId": "9f3402ed-5418-4eb8-e6b4-70fcf3f0e9c5"
      },
      "source": [
        "#Mount Colab onto Google Drive for easier extraction of files\n",
        "from google.colab import drive\n",
        "drive.mount('/content/gdrive')"
      ],
      "execution_count": 3,
      "outputs": [
        {
          "output_type": "stream",
          "text": [
            "Mounted at /content/gdrive\n"
          ],
          "name": "stdout"
        }
      ]
    },
    {
      "cell_type": "code",
      "metadata": {
        "id": "bgmMI0w4tHVc",
        "colab": {
          "base_uri": "https://localhost:8080/"
        },
        "outputId": "f51e6cc2-51a5-4e62-f0d6-996381c8c6aa"
      },
      "source": [
        "#First import the operating system and confirm the list of files.\n",
        "import os\n",
        "os.chdir('/content/gdrive/MyDrive/Data Science/Data')\n",
        "!ls"
      ],
      "execution_count": 4,
      "outputs": [
        {
          "output_type": "stream",
          "text": [
            " ks-projects-201801.csv\n",
            "'Measurement and analysis of Youtube Trending Videos.gdoc'\n",
            "'Project ideas to tackle.gdoc'\n",
            " services_annual_dataset.zip\n",
            " YouTubedata_20210106_220013B.csv\n",
            " Youtubedata_20210109_213012A.csv\n",
            "'YoutubeData.csv - Trending Videos.zip'\n",
            "'YouTube Project Files.zip'\n"
          ],
          "name": "stdout"
        }
      ]
    },
    {
      "cell_type": "code",
      "metadata": {
        "id": "gUKNLT6yrPcy",
        "colab": {
          "base_uri": "https://localhost:8080/",
          "height": 479
        },
        "outputId": "a29a0c94-c07c-403e-d8a1-f9d0ca6fb664"
      },
      "source": [
        "#Import the relevant libraries\n",
        "import numpy as np\n",
        "import pandas as pd\n",
        "#Read the CSV file\n",
        "KSProject = pd.read_csv('/content/gdrive/MyDrive/Data Science/Data/ks-projects-201801.csv')\n",
        "KSProject.head()"
      ],
      "execution_count": 5,
      "outputs": [
        {
          "output_type": "execute_result",
          "data": {
            "text/html": [
              "<div>\n",
              "<style scoped>\n",
              "    .dataframe tbody tr th:only-of-type {\n",
              "        vertical-align: middle;\n",
              "    }\n",
              "\n",
              "    .dataframe tbody tr th {\n",
              "        vertical-align: top;\n",
              "    }\n",
              "\n",
              "    .dataframe thead th {\n",
              "        text-align: right;\n",
              "    }\n",
              "</style>\n",
              "<table border=\"1\" class=\"dataframe\">\n",
              "  <thead>\n",
              "    <tr style=\"text-align: right;\">\n",
              "      <th></th>\n",
              "      <th>ID</th>\n",
              "      <th>name</th>\n",
              "      <th>category</th>\n",
              "      <th>main_category</th>\n",
              "      <th>currency</th>\n",
              "      <th>deadline</th>\n",
              "      <th>goal</th>\n",
              "      <th>launched</th>\n",
              "      <th>pledged</th>\n",
              "      <th>state</th>\n",
              "      <th>backers</th>\n",
              "      <th>country</th>\n",
              "      <th>usd pledged</th>\n",
              "      <th>usd_pledged_real</th>\n",
              "      <th>usd_goal_real</th>\n",
              "    </tr>\n",
              "  </thead>\n",
              "  <tbody>\n",
              "    <tr>\n",
              "      <th>0</th>\n",
              "      <td>1000002330</td>\n",
              "      <td>The Songs of Adelaide &amp; Abullah</td>\n",
              "      <td>Poetry</td>\n",
              "      <td>Publishing</td>\n",
              "      <td>GBP</td>\n",
              "      <td>2015-10-09</td>\n",
              "      <td>1000.0</td>\n",
              "      <td>2015-08-11 12:12:28</td>\n",
              "      <td>0.0</td>\n",
              "      <td>failed</td>\n",
              "      <td>0</td>\n",
              "      <td>GB</td>\n",
              "      <td>0.0</td>\n",
              "      <td>0.0</td>\n",
              "      <td>1533.95</td>\n",
              "    </tr>\n",
              "    <tr>\n",
              "      <th>1</th>\n",
              "      <td>1000003930</td>\n",
              "      <td>Greeting From Earth: ZGAC Arts Capsule For ET</td>\n",
              "      <td>Narrative Film</td>\n",
              "      <td>Film &amp; Video</td>\n",
              "      <td>USD</td>\n",
              "      <td>2017-11-01</td>\n",
              "      <td>30000.0</td>\n",
              "      <td>2017-09-02 04:43:57</td>\n",
              "      <td>2421.0</td>\n",
              "      <td>failed</td>\n",
              "      <td>15</td>\n",
              "      <td>US</td>\n",
              "      <td>100.0</td>\n",
              "      <td>2421.0</td>\n",
              "      <td>30000.00</td>\n",
              "    </tr>\n",
              "    <tr>\n",
              "      <th>2</th>\n",
              "      <td>1000004038</td>\n",
              "      <td>Where is Hank?</td>\n",
              "      <td>Narrative Film</td>\n",
              "      <td>Film &amp; Video</td>\n",
              "      <td>USD</td>\n",
              "      <td>2013-02-26</td>\n",
              "      <td>45000.0</td>\n",
              "      <td>2013-01-12 00:20:50</td>\n",
              "      <td>220.0</td>\n",
              "      <td>failed</td>\n",
              "      <td>3</td>\n",
              "      <td>US</td>\n",
              "      <td>220.0</td>\n",
              "      <td>220.0</td>\n",
              "      <td>45000.00</td>\n",
              "    </tr>\n",
              "    <tr>\n",
              "      <th>3</th>\n",
              "      <td>1000007540</td>\n",
              "      <td>ToshiCapital Rekordz Needs Help to Complete Album</td>\n",
              "      <td>Music</td>\n",
              "      <td>Music</td>\n",
              "      <td>USD</td>\n",
              "      <td>2012-04-16</td>\n",
              "      <td>5000.0</td>\n",
              "      <td>2012-03-17 03:24:11</td>\n",
              "      <td>1.0</td>\n",
              "      <td>failed</td>\n",
              "      <td>1</td>\n",
              "      <td>US</td>\n",
              "      <td>1.0</td>\n",
              "      <td>1.0</td>\n",
              "      <td>5000.00</td>\n",
              "    </tr>\n",
              "    <tr>\n",
              "      <th>4</th>\n",
              "      <td>1000011046</td>\n",
              "      <td>Community Film Project: The Art of Neighborhoo...</td>\n",
              "      <td>Film &amp; Video</td>\n",
              "      <td>Film &amp; Video</td>\n",
              "      <td>USD</td>\n",
              "      <td>2015-08-29</td>\n",
              "      <td>19500.0</td>\n",
              "      <td>2015-07-04 08:35:03</td>\n",
              "      <td>1283.0</td>\n",
              "      <td>canceled</td>\n",
              "      <td>14</td>\n",
              "      <td>US</td>\n",
              "      <td>1283.0</td>\n",
              "      <td>1283.0</td>\n",
              "      <td>19500.00</td>\n",
              "    </tr>\n",
              "  </tbody>\n",
              "</table>\n",
              "</div>"
            ],
            "text/plain": [
              "           ID  ... usd_goal_real\n",
              "0  1000002330  ...       1533.95\n",
              "1  1000003930  ...      30000.00\n",
              "2  1000004038  ...      45000.00\n",
              "3  1000007540  ...       5000.00\n",
              "4  1000011046  ...      19500.00\n",
              "\n",
              "[5 rows x 15 columns]"
            ]
          },
          "metadata": {
            "tags": []
          },
          "execution_count": 5
        }
      ]
    },
    {
      "cell_type": "code",
      "metadata": {
        "colab": {
          "base_uri": "https://localhost:8080/"
        },
        "id": "VANz3Q0cs051",
        "outputId": "ad422301-b259-4aeb-82df-d834a4d666b9"
      },
      "source": [
        "#Inspect the column structure of the data\n",
        "KSProject.dtypes"
      ],
      "execution_count": 6,
      "outputs": [
        {
          "output_type": "execute_result",
          "data": {
            "text/plain": [
              "ID                    int64\n",
              "name                 object\n",
              "category             object\n",
              "main_category        object\n",
              "currency             object\n",
              "deadline             object\n",
              "goal                float64\n",
              "launched             object\n",
              "pledged             float64\n",
              "state                object\n",
              "backers               int64\n",
              "country              object\n",
              "usd pledged         float64\n",
              "usd_pledged_real    float64\n",
              "usd_goal_real       float64\n",
              "dtype: object"
            ]
          },
          "metadata": {
            "tags": []
          },
          "execution_count": 6
        }
      ]
    },
    {
      "cell_type": "code",
      "metadata": {
        "id": "YtFHYII3rPc6",
        "colab": {
          "base_uri": "https://localhost:8080/"
        },
        "outputId": "0e61dcd2-ad0c-4a6b-f4e5-6c22341056a8"
      },
      "source": [
        "#Find the Kick starter category with the most number of failed fund-raising projects\n",
        "Dataset = KSProject['category'].value_counts('state'=='failed')\n",
        "Dataset.head()"
      ],
      "execution_count": 7,
      "outputs": [
        {
          "output_type": "execute_result",
          "data": {
            "text/plain": [
              "Product Design    22314\n",
              "Documentary       16139\n",
              "Music             15727\n",
              "Tabletop Games    14180\n",
              "Shorts            12357\n",
              "Name: category, dtype: int64"
            ]
          },
          "metadata": {
            "tags": []
          },
          "execution_count": 7
        }
      ]
    },
    {
      "cell_type": "code",
      "metadata": {
        "id": "awV0BUburPc8",
        "colab": {
          "base_uri": "https://localhost:8080/"
        },
        "outputId": "ee423d95-ba69-4a70-fd1e-bd68b5e0de6f"
      },
      "source": [
        "#Calculate the average pledged amount for all successful projects, group by currency\n",
        "Dataset2 = KSProject.iloc[:, [4, 8, 9]] #To get the columns I need\n",
        "Dataset3 = Dataset2[Dataset2['state']=='successful']\n",
        "Dataset3.groupby('currency') ['pledged'].mean()"
      ],
      "execution_count": 9,
      "outputs": [
        {
          "output_type": "execute_result",
          "data": {
            "text/plain": [
              "currency\n",
              "AUD     23838.241512\n",
              "CAD     22943.676425\n",
              "CHF     59409.893957\n",
              "DKK    120417.841713\n",
              "EUR     29285.205299\n",
              "GBP     11425.423845\n",
              "HKD    312160.410185\n",
              "JPY    602579.428571\n",
              "MXN     93042.759242\n",
              "NOK    106935.703006\n",
              "NZD     20506.494196\n",
              "SEK    190524.241139\n",
              "SGD     37534.728427\n",
              "USD     23224.491061\n",
              "Name: pledged, dtype: float64"
            ]
          },
          "metadata": {
            "tags": []
          },
          "execution_count": 9
        }
      ]
    },
    {
      "cell_type": "code",
      "metadata": {
        "id": "OaWhAcyFrPc9",
        "colab": {
          "base_uri": "https://localhost:8080/"
        },
        "outputId": "157ed7f0-ccd2-4e4f-e4b5-3af415bdfb2a"
      },
      "source": [
        "#Calculate the average pledged amount for all failed projects, group by currency.\n",
        "Dataset2 = KSProject.iloc[:, [4, 8, 9]] #To get the columns I need\n",
        "Dataset4 = Dataset2[Dataset2['state']=='failed']\n",
        "Dataset4.groupby('currency') ['pledged'].mean()"
      ],
      "execution_count": 10,
      "outputs": [
        {
          "output_type": "execute_result",
          "data": {
            "text/plain": [
              "currency\n",
              "AUD      1463.513525\n",
              "CAD      1366.933904\n",
              "CHF      2357.404753\n",
              "DKK      6696.072557\n",
              "EUR      1226.068236\n",
              "GBP       938.623944\n",
              "HKD     15174.159119\n",
              "JPY    337740.625000\n",
              "MXN      5236.850463\n",
              "NOK      7008.694038\n",
              "NZD      1514.417554\n",
              "SEK      8078.665954\n",
              "SGD      2279.094746\n",
              "USD      1330.723810\n",
              "Name: pledged, dtype: float64"
            ]
          },
          "metadata": {
            "tags": []
          },
          "execution_count": 10
        }
      ]
    },
    {
      "cell_type": "code",
      "metadata": {
        "id": "RwW56xaTrPc-",
        "colab": {
          "base_uri": "https://localhost:8080/"
        },
        "outputId": "cb5c069c-3848-453a-9f65-503380bbf86e"
      },
      "source": [
        "#What year had the most successful number of kick-starter projects?\n",
        "KSProject['launched'].value_counts('state'=='failed')"
      ],
      "execution_count": 11,
      "outputs": [
        {
          "output_type": "execute_result",
          "data": {
            "text/plain": [
              "1970-01-01 01:00:00    7\n",
              "2015-01-20 22:22:33    2\n",
              "2012-02-03 20:56:48    2\n",
              "2013-10-24 22:07:45    2\n",
              "2014-07-08 15:08:48    2\n",
              "                      ..\n",
              "2012-01-28 22:07:38    1\n",
              "2010-10-08 17:44:33    1\n",
              "2011-12-06 05:50:25    1\n",
              "2015-01-07 15:06:43    1\n",
              "2015-03-02 18:52:15    1\n",
              "Name: launched, Length: 378089, dtype: int64"
            ]
          },
          "metadata": {
            "tags": []
          },
          "execution_count": 11
        }
      ]
    },
    {
      "cell_type": "code",
      "metadata": {
        "id": "fM5qxu2TrPdC",
        "colab": {
          "base_uri": "https://localhost:8080/"
        },
        "outputId": "e5028565-3307-4b3c-eede-650e6a487a91"
      },
      "source": [
        "#Calculate the total number of unique categories in the dataset (do not count duplicate categories)?\n",
        "KSProject.nunique().drop_duplicates"
      ],
      "execution_count": 12,
      "outputs": [
        {
          "output_type": "execute_result",
          "data": {
            "text/plain": [
              "<bound method Series.drop_duplicates of ID                  378661\n",
              "name                375764\n",
              "category               159\n",
              "main_category           15\n",
              "currency                14\n",
              "deadline              3164\n",
              "goal                  8353\n",
              "launched            378089\n",
              "pledged              62130\n",
              "state                    6\n",
              "backers               3963\n",
              "country                 23\n",
              "usd pledged          95455\n",
              "usd_pledged_real    106065\n",
              "usd_goal_real        50339\n",
              "dtype: int64>"
            ]
          },
          "metadata": {
            "tags": []
          },
          "execution_count": 12
        }
      ]
    }
  ]
}